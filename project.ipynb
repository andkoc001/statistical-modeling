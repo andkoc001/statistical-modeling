{
 "cells": [
  {
   "cell_type": "markdown",
   "id": "a81e9c39-fc81-4667-892b-1b0de3f52a48",
   "metadata": {},
   "source": [
    "# Modelowanie statystyczne\n",
    "\n",
    "> WSB-NLU, 2023-2024  \n",
    "> Prowadządza: dr hab. Elżbieta Kubińska\n",
    "\n",
    "> Autor: Andrzej Kocielski  \n",
    "> [akocielski@student.wsb-nlu.edu.pl](akocielski@student.wsb-nlu.edu.pl), [and.koc001@gmail.com](and.koc001@gmail.com)\n",
    "____"
   ]
  },
  {
   "cell_type": "markdown",
   "id": "03bd8e8a-e03e-4497-b4c8-50b81ce62f6b",
   "metadata": {},
   "source": [
    "## Zaimportowanie potrzebnych modułów"
   ]
  },
  {
   "cell_type": "code",
   "execution_count": 1,
   "id": "ed4112fc-2848-4250-959c-9ae6569c9a91",
   "metadata": {},
   "outputs": [],
   "source": [
    "# do manipulacji ścieżkami do katalogów i plików\n",
    "import os\n",
    "\n",
    "# do obliczń numerycznych i analizy statystycznej\n",
    "import numpy as np\n",
    "import pandas as pd\n",
    "import scipy.stats as stats\n",
    "import statsmodels as sm\n",
    "import pingouin as pg\n",
    "from sklearn.linear_model import LinearRegression\n",
    "\n",
    "# do wizualizacji danych\n",
    "import matplotlib.pyplot as plt\n",
    "import seaborn as sns"
   ]
  },
  {
   "cell_type": "markdown",
   "id": "b776967e-cc6b-4ea1-80f7-710ffb78a62e",
   "metadata": {},
   "source": [
    "## Załadowanie danych surowych\n",
    "Dane tygodniowe dla wybranych spółek oraz indeksów w okresie od 01.01.2023 do 15.12.2023. Źródło danych: [stooq.pl](https://stooq.pl/)."
   ]
  },
  {
   "cell_type": "code",
   "execution_count": 2,
   "id": "c2f32e86-6d78-4d3a-b432-451b12994112",
   "metadata": {},
   "outputs": [
    {
     "name": "stdout",
     "output_type": "stream",
     "text": [
      "Lista plików csv:\n",
      "1. comarch_w.csv\n",
      "2. kghm_w.csv\n",
      "3. eurpln_w.csv\n",
      "4. spx_w.csv\n",
      "5. echo_w.csv\n",
      "6. xaupln_w.csv\n",
      "7. apator_w.csv\n",
      "8. wig_w.csv\n"
     ]
    }
   ],
   "source": [
    "# Ścieżka do danych\n",
    "directory_path = 'dane-finansowe'\n",
    "\n",
    "# Lista plików csv\n",
    "csv_files = [file for file in os.listdir(directory_path) if file.endswith('.csv')]\n",
    "\n",
    "print(f\"Lista plików csv:\")\n",
    "for i, file in enumerate(csv_files):\n",
    "    print(f\"{i+1}. {file}\") "
   ]
  },
  {
   "cell_type": "markdown",
   "id": "e3301059-51e2-4618-a174-2a816c7584f1",
   "metadata": {},
   "source": [
    "### Przygotowanie danych roboczych"
   ]
  },
  {
   "cell_type": "code",
   "execution_count": 3,
   "id": "a70e43c0-4388-48d7-8ebc-86b887ba909b",
   "metadata": {},
   "outputs": [],
   "source": [
    "# Inicjalizaja pustego DataFrame\n",
    "merged_df = pd.DataFrame()\n",
    "\n",
    "# Zaczytanie danych z poszczególnych plików csv i dodanie do wspólnego DataFrame\n",
    "for file in csv_files:\n",
    "    file_path = os.path.join(directory_path, file)\n",
    "    df = pd.read_csv(file_path)\n",
    "\n",
    "    # Dodanie nazwy poliku do nazwy kolumny (poza pierwszą, czyli datą)\n",
    "    nazwa_pliku = os.path.splitext(os.path.basename(file))[0][:-2].upper()\n",
    "    df.columns = [df.columns[0]] + [f\"{col}_{nazwa_pliku}\" for col in df.columns[1:]]\n",
    "    \n",
    "    # Łączenie danych z poszczególnych plików \n",
    "    merged_df = pd.concat([merged_df, df], ignore_index=False, axis=1)\n",
    "\n",
    "# Usunięcie powtórzonych kolumn z datami\n",
    "merged_df = merged_df.T.drop_duplicates().T\n"
   ]
  },
  {
   "cell_type": "code",
   "execution_count": 4,
   "id": "2d539572-a3f3-42c3-b34b-daf2b58491f9",
   "metadata": {},
   "outputs": [],
   "source": [
    "# Zmiana typu danych \n",
    "cols = list(merged_df.columns)\n",
    "cols.remove('Data')\n",
    "for col in cols:\n",
    "    merged_df[col] = merged_df[col].astype(float)\n",
    "\n",
    "merged_df['Data'] = pd.to_datetime(merged_df['Data'])\n",
    "\n",
    "# ustawienie daty jako indeksu\n",
    "merged_df.set_index('Data', inplace=True)"
   ]
  },
  {
   "cell_type": "code",
   "execution_count": null,
   "id": "5a11f2b4-2795-4a74-ad36-1bfb221928db",
   "metadata": {},
   "outputs": [],
   "source": [
    "print(f\"Liczba obserwacji (wierszy): {merged_df.shape[0]}, liczba kolumn: {merged_df.shape[1]}\")"
   ]
  },
  {
   "cell_type": "code",
   "execution_count": null,
   "id": "a31af95a-d25b-42a3-a9a3-bff81ba7df54",
   "metadata": {},
   "outputs": [],
   "source": [
    "print(f\"Podgląd kilku pierwszych wierszy:\")\n",
    "merged_df.head()"
   ]
  },
  {
   "cell_type": "code",
   "execution_count": null,
   "id": "696c1df3-4a07-4446-92f8-3626acb9045c",
   "metadata": {},
   "outputs": [],
   "source": [
    "# sprawdzamy brakujące dane (ich liczbę) w poszczególnych kolumnach \n",
    "merged_df.isnull().sum() "
   ]
  },
  {
   "cell_type": "markdown",
   "id": "6b83909a-db22-44ad-9d28-9c6c5f6bd9e4",
   "metadata": {},
   "source": [
    "___\n",
    "## Interpretacja graficzna danych"
   ]
  },
  {
   "cell_type": "code",
   "execution_count": 58,
   "id": "d2f3d09b-bdb4-4088-a9e6-9b046dde121a",
   "metadata": {},
   "outputs": [],
   "source": [
    "# ogólne ustawienie stylu wykresów\n",
    "# print(plt.style.available)\n",
    "plt.style.use('classic')\n",
    "plt.rcParams['figure.figsize'] = [12, 4]\n",
    "plt.rcParams['font.family'] = 'sans-serif'\n",
    "plt.rcParams['font.size'] = 10\n",
    "plt.rcParams['lines.linewidth'] = 0.75\n",
    "plt.rcParams['lines.markersize'] = 1.2"
   ]
  },
  {
   "cell_type": "markdown",
   "id": "3a3ae1f4-96dc-4714-b903-580378e32c8e",
   "metadata": {},
   "source": [
    "### Szereg czasowy zamknięcia tygodnia"
   ]
  },
  {
   "cell_type": "code",
   "execution_count": 6,
   "id": "ea8ac9e8-3ca6-4b41-b046-88d15d742176",
   "metadata": {},
   "outputs": [],
   "source": [
    "# przygotowanie podzbioru\n",
    "zamkniecia = ['Zamkniecie_COMARCH', 'Zamkniecie_KGHM', 'Zamkniecie_EURPLN', 'Zamkniecie_SPX', 'Zamkniecie_ECHO', 'Zamkniecie_XAUPLN', 'Zamkniecie_APATOR', 'Zamkniecie_WIG']\n",
    "zamkniecia_df = merged_df[zamkniecia]\n",
    "\n",
    "spolki = ['Zamkniecie_COMARCH', 'Zamkniecie_KGHM', 'Zamkniecie_ECHO', 'Zamkniecie_APATOR']\n",
    "spolki_df = merged_df[spolki]"
   ]
  },
  {
   "cell_type": "markdown",
   "id": "d816cbf9-a184-463d-86b3-ea9c1e7086ae",
   "metadata": {},
   "source": [
    "### Zmienność wartości spółek w badanym okresie"
   ]
  },
  {
   "cell_type": "code",
   "execution_count": null,
   "id": "f2b030d4-e324-40ba-a1b9-0a427351f7d0",
   "metadata": {},
   "outputs": [],
   "source": [
    "# wartość indeksu WIG w badanym okrecie\n",
    "walor = zamkniecia_df.columns[-1] \n",
    "\n",
    "# dane\n",
    "plt.plot(zamkniecia_df[walor]) \n",
    "\n",
    "plt.title(f'{walor}')\n",
    "plt.xlabel('Czas')\n",
    "plt.ylabel('Wartość indeksu')\n",
    "plt.grid(True, linestyle='dotted')\n",
    "\n",
    "plt.show()"
   ]
  },
  {
   "cell_type": "code",
   "execution_count": null,
   "id": "877fc415-033f-4416-907f-b9cfabdaaeae",
   "metadata": {},
   "outputs": [],
   "source": [
    "# wartość danego waloru w badanym okrecie\n",
    "for walor in range(len(spolki_df.columns)):\n",
    "    plt.plot(zamkniecia_df[spolki_df.columns[walor]], label=spolki_df.columns[walor]) \n",
    "\n",
    "plt.title(f'Zamkniecia wybranych spółek')\n",
    "plt.xlabel('Czas')\n",
    "plt.ylabel('Cena zamknięcia (PLN)')\n",
    "plt.grid(True,linestyle='dotted') \n",
    "plt.legend(fontsize='10', loc='upper center')\n",
    "\n",
    "plt.show()"
   ]
  },
  {
   "cell_type": "code",
   "execution_count": null,
   "id": "420aa44c-6e08-4416-95fe-9011d6c6f973",
   "metadata": {
    "scrolled": true
   },
   "outputs": [],
   "source": [
    "# porównanie wybranych spółek do indeksu WIG\n",
    "\n",
    "# parametry pierwszego wykresu (lewa oś y)\n",
    "fig, ax1 = plt.subplots()\n",
    "\n",
    "# wizualizacja wybranych spółek w badanym okrecie (lewa oś y)\n",
    "for walor in range(len(spolki_df.columns)):\n",
    "    ax1.plot(zamkniecia_df[spolki_df.columns[walor]], linestyle='-', label=spolki_df.columns[walor][11:]) \n",
    "ax1.set_xlabel('Czas')\n",
    "ax1.set_ylabel('Cena zamknięcia spółek (PLN)', color='grey')\n",
    "ax1.tick_params('y', colors='grey')\n",
    "\n",
    "# parametry drugiego wykresu (prawa oś y; ta sama oś x)\n",
    "ax2 = ax1.twinx()\n",
    "\n",
    "# wizualizacja ineksu WIG w badanym okrecie (prawa oś y)\n",
    "wig = zamkniecia_df.columns[-1]\n",
    "ax2.plot(zamkniecia_df[wig], color='black', linestyle='--', label=f'{wig[11:]} (prawa oś)')\n",
    "ax2.set_ylabel('Punkty indeksu WIG', color='black')\n",
    "ax2.tick_params('y', colors='black')\n",
    "\n",
    "# kreślenie wykresów\n",
    "plt.title(f'Porównanie wybranych spółek do indeksu WIG')\n",
    "lines, labels = ax1.get_legend_handles_labels()\n",
    "lines_wig, labels_wig = ax2.get_legend_handles_labels()\n",
    "ax2.legend(lines + lines_wig, labels + labels_wig, fontsize='10', loc='upper center')\n",
    "plt.grid(True, linestyle='dotted') \n",
    "plt.show()"
   ]
  },
  {
   "cell_type": "markdown",
   "id": "936b13fa-7e59-4145-bdf8-8e9bdf6d56b9",
   "metadata": {},
   "source": [
    "### Graficzna prezentacja zamienności tygodniowych zamknięć wskaźników"
   ]
  },
  {
   "cell_type": "code",
   "execution_count": null,
   "id": "f57a26b9-3113-4f29-ad73-51c1098ce256",
   "metadata": {},
   "outputs": [],
   "source": [
    "# Porównanie zmienności indeksu SP500 i inteksu WIG w badanym okresie\n",
    "\n",
    "# parametry pierwszego wykresu (lewa oś y)\n",
    "fig, ax1 = plt.subplots()\n",
    "\n",
    "# wizualizacja danych na lewej osi y\n",
    "# plt.plot(merged_df['Zamkniecie_SPX'], color='b', linestyle='-', label=f'{S&P500[11:]} (lewa oś)') \n",
    "sp500 = zamkniecia_df.columns[3]\n",
    "ax1.plot(zamkniecia_df[sp500], color='b', linestyle='-', label=f'{sp500[11:]} (lewa oś)')\n",
    "\n",
    "ax1.set_xlabel('Czas')\n",
    "ax1.set_ylabel('Punkty indeksu S&P500', color='b')\n",
    "ax1.tick_params('y', colors='b')\n",
    "\n",
    "# parametry wykresu dl prawej osi y (ta sama oś x)\n",
    "ax2 = ax1.twinx()\n",
    "\n",
    "# wizualizacja ineksu WIG w badanym okrecie (prawa oś y)\n",
    "wig = zamkniecia_df.columns[-1]\n",
    "ax2.plot(zamkniecia_df[wig], color='r', linestyle='-', label=f'{wig[11:]} (prawa oś)')\n",
    "ax2.set_ylabel('Punkty indeksu WIG', color='r')\n",
    "ax2.tick_params('y', colors='r')\n",
    "\n",
    "# kreślenie wykresów\n",
    "plt.title(f'Porównanie wybranych wskaźników do indeksu WIG')\n",
    "lines, labels = ax1.get_legend_handles_labels()\n",
    "lines_wig, labels_wig = ax2.get_legend_handles_labels()\n",
    "ax2.legend(lines + lines_wig, labels + labels_wig, fontsize='10', loc='upper center')\n",
    "plt.grid(True, linestyle='dotted') \n",
    "plt.show()"
   ]
  },
  {
   "cell_type": "code",
   "execution_count": null,
   "id": "61151b7e-fef0-4160-9522-7c75ede412c9",
   "metadata": {},
   "outputs": [],
   "source": [
    "# Porównanie zmienności cen EUR oraz cen złota w badanym okresie\n",
    "\n",
    "# parametry pierwszego wykresu (lewa oś y)\n",
    "fig, ax1 = plt.subplots()\n",
    "\n",
    "# wizualizacja danych na lewej osi y\n",
    "# plt.plot(merged_df['Zamkniecie_SPX'], color='b', linestyle='-', label=f'{S&P500[11:]} (lewa oś)') \n",
    "eur = zamkniecia_df.columns[2]\n",
    "ax1.plot(zamkniecia_df[eur], color='b', linestyle='-', label=f'{eur[11:]} (lewa oś)')\n",
    "\n",
    "ax1.set_xlabel('Czas')\n",
    "ax1.set_ylabel('Cena 1 EUR [PLN]', color='b')\n",
    "ax1.tick_params('y', colors='b')\n",
    "\n",
    "# parametry wykresu dl prawej osi y (ta sama oś x)\n",
    "ax2 = ax1.twinx()\n",
    "\n",
    "# wizualizacja ineksu WIG w badanym okrecie (prawa oś y)\n",
    "zloto = zamkniecia_df.columns[5]\n",
    "ax2.plot(zamkniecia_df[zloto], color='g', linestyle='-', label=f'{zloto[11:]} (prawa oś)')\n",
    "ax2.set_ylabel('Cena 1 uncji złota [PLN]', color='g')\n",
    "ax2.tick_params('y', colors='g')\n",
    "\n",
    "# kreślenie wykresów\n",
    "plt.title(f'Porównanie cen EUR oraz złota')\n",
    "lines, labels = ax1.get_legend_handles_labels()\n",
    "lines_wig, labels_wig = ax2.get_legend_handles_labels()\n",
    "ax2.legend(lines + lines_wig, labels + labels_wig, fontsize='10', loc='upper center')\n",
    "plt.grid(True, linestyle='dotted') \n",
    "plt.show()"
   ]
  },
  {
   "cell_type": "markdown",
   "id": "6b050be4-8362-4212-a710-f3bf67db26af",
   "metadata": {},
   "source": [
    "___\n",
    "## Statystyka opisowa\n",
    "### Dla spółki Comarch (jako przykład)"
   ]
  },
  {
   "cell_type": "code",
   "execution_count": null,
   "id": "5a797d7f-bf8f-428f-85bb-7e2f4b5f6432",
   "metadata": {},
   "outputs": [],
   "source": [
    "comarch_cols = [\"Zamkniecie_COMARCH\", \"Wolumen_COMARCH\"]"
   ]
  },
  {
   "cell_type": "markdown",
   "id": "d4b4b168-250b-4be9-bfed-8f18d2635563",
   "metadata": {},
   "source": [
    "### Wybrane miary zmienności\n",
    "- Rozstęp\n",
    "- Odchylenie ćwiartkowe\n",
    "- Wariancja\n",
    "- Odchylenie standardowe\n",
    "- Współczynnik zmienności\n",
    "\n",
    "### Wybrane miary pozycyjne\n",
    "- Średnia\n",
    "- Kwantyle\n",
    "- Mediana (kwantyl 50%)\n",
    "- Moda\n",
    "\n",
    "### Wybrane miary kształtu\n",
    "- Skośność\n",
    "- Kurtoza"
   ]
  },
  {
   "cell_type": "code",
   "execution_count": 7,
   "id": "a4b02b82-99c1-4ad2-be54-b7928b7eb71c",
   "metadata": {},
   "outputs": [],
   "source": [
    "# Przygotowanie parametrów statystycznych\n",
    "\n",
    "# własna funkcja do obliczania inter quartile range (IQR)\n",
    "def q25(column):\n",
    "    return column.quantile(0.25)\n",
    "def q75(column):\n",
    "    return column.quantile(0.75)    \n",
    "def IQR(column): \n",
    "    q25, q75 = column.quantile([0.25, 0.75])\n",
    "    return q75-q25\n",
    "\n",
    "# własna funkcja do obliczania zakresu\n",
    "def range_max_min(column):\n",
    "    return column.max() - column.min()\n",
    "\n",
    "# własna funkcja do obliczania współczynnika zmienności (coefficient of variance)\n",
    "def cv(column):\n",
    "    return stats.variation(list(column)) * 100\n",
    "\n",
    "# własna funkcja do wyznaczania błędu standardowego\n",
    "def sem(column):\n",
    "    return stats.sem(list(column))\n",
    "\n",
    "# własna funkcja do wyznaczenia przedziału ufności dla średniej\n",
    "def ci(column):\n",
    "    conf_level = 0.95\n",
    "    df = len(column) - 1\n",
    "    sem = stats.sem(list(column))\n",
    "    # return stats.t.interval(conf_level, df, np.mean(column), sem)\n",
    "\n",
    "    lower, upper = stats.t.interval(conf_level, df, np.mean(column), sem)\n",
    "    lower = round(lower, 3)\n",
    "    upper = round(upper, 3)\n",
    "    return lower, upper\n",
    "\n",
    "charakterystyka = [\"min\", q25, \"mean\", \"median\", q75, IQR, \"max\", range_max_min, \"var\", \"std\", cv, sem, ci, \"skew\", \"kurtosis\"]"
   ]
  },
  {
   "cell_type": "code",
   "execution_count": null,
   "id": "237ae117-1f81-4dc6-9904-bd0d7a9beda7",
   "metadata": {
    "scrolled": true
   },
   "outputs": [],
   "source": [
    "merged_df[comarch_cols].agg(charakterystyka)"
   ]
  },
  {
   "cell_type": "markdown",
   "id": "3deaf3b5-eba5-4a32-891d-00f30adc04ab",
   "metadata": {},
   "source": [
    "### Interpretacja wybranych statystyk dla _cen zamknięcia_ akcji Comarch w interwałach tygodniowych\n",
    "\n",
    "$min$ -> najniższa cena akcji Comarch na zamknięciu tygodniowym w obserwowanym okresie\n",
    "\n",
    "$max$ -> najwyższa cena akcji na zamknięciu tygodniowym \n",
    "\n",
    "$mean$ -> średnia arytmetyczna cen zamknięcia\n",
    "\n",
    "$median$ -> mediana (wartość środkowa); wartość mniejsza od średniej wskazuje na skośność statystyki\n",
    "\n",
    "$std$ -> odchylenie standardowe wyrażone w PLN; stosunkowo duża wartość $std$ w stosunku do średniej wskazuje na znaczny rozrzut zmiennej \n",
    "\n",
    "$cv$ -> współczynnik zmienności; średnia / odchylenie standardowe\n",
    "\n",
    "$sem$ -> błąd standardowy średniej; rozrzut estymatorów z próby wokół parametru populacji, czyli jak bardzo średnia próbki jest \"rozmyta\" (miara niepewności testu)\n",
    "\n",
    "$ci$ -> przedział ufności; z prawdopodobieństwem 0.95 prawdziwa wartość parametru populacyjnego (średnia cen zamknięcia) znajduje się w tym przedziale\n",
    "\n",
    "$skew$ -> skośność; wartość większa od 1 świadczy o skośności lewostronnej\n",
    "\n",
    "$kurtosis$ -> kurtoza; bada czy rozkład jest płaski, czy stromy; kurtoza < 0 wskazuje na rozkład platykurtyczny, czyli rozkład niski i szeroki (Wartości zmiennej są bardziej rozrzucone wokół średniej oraz mamy mniejsze prawdopodobieństwo wystąpienia wartości ekstremalnych)\n"
   ]
  },
  {
   "cell_type": "markdown",
   "id": "b468a67d-e4b2-4141-8659-7bb28851e065",
   "metadata": {},
   "source": [
    "___\n",
    "## Analiza kursu EUR - PLN\n",
    "### Najważniejsze parametry statystyczne"
   ]
  },
  {
   "cell_type": "code",
   "execution_count": 8,
   "id": "24ca071c-ecf5-4512-b8da-a5df185566d8",
   "metadata": {},
   "outputs": [],
   "source": [
    "parametry_eurpln = merged_df[\"Zamkniecie_EURPLN\"].agg(charakterystyka)"
   ]
  },
  {
   "cell_type": "code",
   "execution_count": 9,
   "id": "ee95103a-6930-40ca-b5e7-a123703db4ff",
   "metadata": {},
   "outputs": [],
   "source": [
    "min_eurpln = parametry_eurpln.iloc[0]\n",
    "mean_eurpln = parametry_eurpln.iloc[2]\n",
    "max_eurpln = parametry_eurpln.iloc[6]\n",
    "std_eurpln = parametry_eurpln.iloc[9]\n",
    "skew_eurpln = parametry_eurpln.iloc[13]\n",
    "kurt_eurpln = parametry_eurpln.iloc[14]"
   ]
  },
  {
   "cell_type": "markdown",
   "id": "3c55e62b-7300-4353-a65f-74d062104be1",
   "metadata": {},
   "source": [
    "### Histogram"
   ]
  },
  {
   "cell_type": "code",
   "execution_count": 20,
   "id": "ceec00ef-1349-444d-99ed-a36242029d63",
   "metadata": {},
   "outputs": [
    {
     "data": {
      "image/png": "[encoded data removed]",
      "text/plain": [
       "<Figure size 960x320 with 1 Axes>"
      ]
     },
     "metadata": {},
     "output_type": "display_data"
    }
   ],
   "source": [
    "# Utwórzenie histogram\n",
    "plt.hist(merged_df[\"Zamkniecie_EURPLN\"], bins=20, density=True, color='skyblue')\n",
    "\n",
    "# Wykreślenie krzywej gęstości prawdopodobieństwa (pdf)\n",
    "# xmin, xmax = plt.xlim()\n",
    "# x_zakres = np.linspace(xmin, xmax, 1000)\n",
    "x_zakres = np.linspace(mean_eurpln - 3.1 * std_eurpln, mean_eurpln + 3.1 * std_eurpln, 1000)\n",
    "plt.plot(x_zakres, stats.norm.pdf(x_zakres, mean_eurpln, std_eurpln), 'r')\n",
    "\n",
    "# oznaczenie zakresu -odch-std oraz +odch_std\n",
    "plt.axvline(mean_eurpln-std_eurpln, color='g', linestyle='--')\n",
    "plt.axvline(mean_eurpln+std_eurpln, color='g', linestyle='--')\n",
    "\n",
    "# Opis wykresu i osi\n",
    "plt.title('Histogram kursu EUR-PLN')\n",
    "plt.xlabel('EUR-PLN')\n",
    "plt.ylabel('Częstość')\n",
    "plt.text(min_eurpln, 1.8, f'| min EUR-PLN: {min_eurpln:.3f}', color='b')\n",
    "plt.text(max_eurpln, 1.8, f'| max EUR-PLN: {max_eurpln:.3f}', color='b')\n",
    "plt.text(4.9, 0.48, f'średnia ($\\mu$) EUR-PLN: {mean_eurpln:.3f}', color='r')\n",
    "plt.text(4.9, 0.60, f'odch_std ($\\sigma$) EUR-PLN: {std_eurpln:.3f}', color='r')\n",
    "plt.text(3.63, 1.2, f'$\\mu-1 \\sigma$ = {mean_eurpln-std_eurpln:.3f}', color='g')\n",
    "plt.text(4.55, 1.2, f'$\\mu+1 \\sigma$ = {mean_eurpln+std_eurpln:.3f}', color='g')\n",
    "\n",
    "# Kreślenie\n",
    "plt.show()"
   ]
  },
  {
   "cell_type": "markdown",
   "id": "3a17342b-bdb3-4feb-b97f-b4a6b64e0d9a",
   "metadata": {},
   "source": [
    "Rozkład z grubsza przypomina normalny, choć nie-symetryczny i ściśnięty blisko wartości oczekiwanej. Porównajmy zatem niektóre parametry rozkładu."
   ]
  },
  {
   "cell_type": "code",
   "execution_count": null,
   "id": "3a3fbcb5-5983-413b-906b-d7524e9e9c9d",
   "metadata": {},
   "outputs": [],
   "source": [
    "print(f'skew \\t   {stats.skew(merged_df[\"Zamkniecie_EURPLN\"]):.6f}')\n",
    "print(f'kurtosis    {stats.kurtosis(merged_df[\"Zamkniecie_EURPLN\"]):.6f}')"
   ]
  },
  {
   "cell_type": "markdown",
   "id": "5cc507a6-3d87-469a-9ed1-7d19956d50b4",
   "metadata": {},
   "source": [
    "Zatem wnioskujemy, iż:  \n",
    "a) rozkład jest jednak względnie symetryczny, ponieważ skośność w zakresie <-1,1>  \n",
    "b) leptokurtyczny (tj. ściśnięty), ponieważ kurtoza > 0"
   ]
  },
  {
   "cell_type": "markdown",
   "id": "c168eeb0-3512-4db2-8d08-5493d29448b0",
   "metadata": {},
   "source": [
    "### Wyznaczenie trzech sigm dla cen zamknięcia EUR-PLN"
   ]
  },
  {
   "cell_type": "code",
   "execution_count": 37,
   "id": "756108ba-ea30-4adf-8956-48a24233774c",
   "metadata": {},
   "outputs": [
    {
     "name": "stdout",
     "output_type": "stream",
     "text": [
      "Wartość oczekiwana (średnia): 4.2236\n",
      "Odchylenie standardowe: 0.2994\n",
      "Dystrybuanta dla -3 sigma (3.3254 PLN): 0.0013\n",
      "Dystrybuanta dla -2 sigma (3.6248 PLN): 0.0228\n",
      "Dystrybuanta dla -1 sigma (3.9242 PLN): 0.1587\n",
      "Dystrybuanta dla 1 sigma (4.5230 PLN): 0.8413\n",
      "Dystrybuanta dla 2 sigma (4.8224 PLN): 0.9772\n",
      "Dystrybuanta dla 3 sigma (5.1218 PLN): 0.9987\n"
     ]
    }
   ],
   "source": [
    "# Wartości Z-score dla trzech odchyleń standardowych\n",
    "zakres_sigm = [-3, -2, -1, 1, 2, 3]\n",
    "\n",
    "print(f'Wartość oczekiwana (średnia): {mean_eurpln:.4f}')\n",
    "print(f'Odchylenie standardowe: {std_eurpln:.4f}')\n",
    "\n",
    "# Oblicz dystrybuantę dla odchyleń standardowych (wartość Z-score)\n",
    "sigmy = [s * std_eurpln + mean_eurpln for s in zakres_sigm]\n",
    "for s in sigmy:\n",
    "    cumulative_probability = stats.norm.cdf(s, loc=mean_eurpln, scale=std_eurpln)\n",
    "    print(f'Dystrybuanta dla {(s-mean_eurpln)/std_eurpln:.0f} sigma ({s:.4f} PLN): {cumulative_probability:.4f}')"
   ]
  },
  {
   "cell_type": "code",
   "execution_count": 73,
   "id": "6eb3c9eb-988c-4e07-b208-1d3b2b50cd38",
   "metadata": {},
   "outputs": [
    {
     "data": {
      "image/png": "[encoded data removed]",
      "text/plain": [
       "<Figure size 960x320 with 1 Axes>"
      ]
     },
     "metadata": {},
     "output_type": "display_data"
    }
   ],
   "source": [
    "# Analiza graficzna trzech sigm\n",
    "\n",
    "# Tworzenie danych dla osi X (wartości Z-score)\n",
    "x_zakres = np.linspace(mean_eurpln - 4 * std_eurpln, mean_eurpln + 4 * std_eurpln, 1000)\n",
    "\n",
    "# Tworzenie wykresu statystyki\n",
    "plt.plot(x_zakres, stats.norm.pdf(x_zakres, mean_eurpln, std_eurpln), 'r', label=f'Rozkład normalny $(\\mu, \\sigma)$')\n",
    "plt.plot(x_zakres, stats.norm.pdf(x_zakres, loc=mean_eurpln, scale=1), color='y', label=f'Rozkład normalny $(\\mu, 1)$')\n",
    "plt.axvline(mean_eurpln + std_eurpln, color='g', linestyle='--', label=f'$\\sigma$ = {std_eurpln:.4f}')\n",
    "\n",
    "# wartość oczekiwana\n",
    "plt.axvline(mean_eurpln, color='b', linestyle='--', label=f'$\\mu$ = {mean_eurpln:.4f}')\n",
    "\n",
    "# Dodanie dystrybuant dla różnych odchyleń standardowych\n",
    "for s in sigmy:\n",
    "    plt.axvline(s, color='g', linestyle='--')#, label=f'{(s-mean_eurpln)/std_eurpln:.0f}$\\sigma$ = {s:.4f}')\n",
    "\n",
    "    # Obliczanie dystrybuanty dla danej sigmy\n",
    "    cumulative_probability = stats.norm.cdf(s, loc=mean_eurpln, scale=std_eurpln)\n",
    "    plt.text(.01+s, 1.9+s*-.3, f'P($\\sigma$<{s:.2f})={cumulative_probability:.4f}', color='g')\n",
    "\n",
    "plt.text(mean_eurpln+.01, 0.63, f'P($\\mu$<{mean_eurpln:.2f})={stats.norm.cdf(mean_eurpln, loc=mean_eurpln, scale=std_eurpln):.4f}', color='b')\n",
    "\n",
    "# Konfiguracja wykresu\n",
    "plt.title('Wykres statystyki i dystrybuanty dla trzech odchyleń standardowych EUR-PLN')\n",
    "plt.xlabel('Wartość EUR-PLN')\n",
    "plt.ylabel('Gęstość prawdopodobieństwa')\n",
    "plt.legend(fontsize='10')\n",
    "plt.grid(True)\n",
    "plt.show()"
   ]
  },
  {
   "cell_type": "markdown",
   "id": "5f0a5dcc-6bd4-4a22-829b-bcbed327f502",
   "metadata": {},
   "source": [
    "___\n",
    "## Testy statystyczne\n",
    "### Czy częstość występowania cen EUR-PLN ma rozkład normalny"
   ]
  },
  {
   "cell_type": "code",
   "execution_count": 74,
   "id": "c99c4bcc-3e56-4bb9-b6d1-07b9474078eb",
   "metadata": {},
   "outputs": [
    {
     "name": "stdout",
     "output_type": "stream",
     "text": [
      "Statystyka testowa: 0.9993218667162591\n",
      "Wartość p: 0.0\n",
      "Wniosek: odrzucono hipotezę zerową na korzyść hipotezy alternatywnej (nie normalny rozklad).\n"
     ]
    }
   ],
   "source": [
    "# Test Kołmogorowa-Smirnowa\n",
    "statistic, p_value = stats.kstest(merged_df['Zamkniecie_EURPLN'], 'norm')\n",
    "print(\"Statystyka testowa:\", statistic)\n",
    "print(\"Wartość p:\", p_value)\n",
    "\n",
    "# Interpretacja wyników\n",
    "alpha = 0.05\n",
    "if p_value > alpha:\n",
    "    print(\"Wniosek: nie ma podstaw do odrzucenia hipotezy zerowej (o normalności rozkładu).\")\n",
    "else:\n",
    "    print(\"Wniosek: odrzucono hipotezę zerową na korzyść hipotezy alternatywnej (nie normalny rozklad).\")"
   ]
  },
  {
   "cell_type": "code",
   "execution_count": 75,
   "id": "f35e6f42-f565-43b0-9d26-88b72d3fa1c4",
   "metadata": {},
   "outputs": [
    {
     "name": "stdout",
     "output_type": "stream",
     "text": [
      "Statystyka testowa: 60.17132120784457\n",
      "Wartość p: 8.589415573446294e-14\n",
      "Wniosek: odrzucono hipotezę zerową na korzyść hipotezy alternatywnej (nie normalny rozklad).\n"
     ]
    }
   ],
   "source": [
    "# Test D'Agostino i Pearson:\n",
    "statistic, p_value = stats.normaltest(merged_df['Zamkniecie_EURPLN'])\n",
    "\n",
    "print(\"Statystyka testowa:\", statistic)\n",
    "print(\"Wartość p:\", p_value)\n",
    "\n",
    "# Interpretacja wyników\n",
    "alpha = 0.05\n",
    "if p_value > alpha:\n",
    "    print(\"Wniosek: nie ma podstaw do odrzucenia hipotezy zerowej (rozklad normalny).\")\n",
    "else:\n",
    "    print(\"Wniosek: odrzucono hipotezę zerową na korzyść hipotezy alternatywnej (nie normalny rozklad).\")"
   ]
  },
  {
   "cell_type": "markdown",
   "id": "806b9013-ed86-4b30-8734-e5ddc731be5b",
   "metadata": {},
   "source": [
    "___\n",
    "## Analiza portfelowa\n",
    "Na przykładzie cen zamknięcia spółki Comarch wobec indeksu WIG\n",
    "\n",
    "### Wyznaczenie korelacji"
   ]
  },
  {
   "cell_type": "code",
   "execution_count": 76,
   "id": "cfaf7295-f3d4-4a05-81c6-d6ffe8d9091b",
   "metadata": {},
   "outputs": [
    {
     "name": "stdout",
     "output_type": "stream",
     "text": [
      "Współczynnik korelacji: 0.80\n"
     ]
    }
   ],
   "source": [
    "# Dane (zmienne niezależne i zależna)\n",
    "x = merged_df['Zamkniecie_WIG']\n",
    "y = merged_df['Zamkniecie_COMARCH']\n",
    "\n",
    "# Obliczenie współczynnika korelacji (Pearson)\n",
    "correlation_coefficient = np.corrcoef(x, y)[0, 1]\n",
    "# Wyświetlenie współczynnika korelacji\n",
    "print(f'Współczynnik korelacji: {correlation_coefficient:.2f}')"
   ]
  },
  {
   "cell_type": "markdown",
   "id": "c0a8b537-a306-48db-9e00-b8ea2fb5dd54",
   "metadata": {},
   "source": [
    "### Model regresji liniowej"
   ]
  },
  {
   "cell_type": "code",
   "execution_count": 77,
   "id": "98e71d49-1533-46a4-8003-7d3723f8af49",
   "metadata": {},
   "outputs": [
    {
     "name": "stdout",
     "output_type": "stream",
     "text": [
      "Współczynnik nachylenia (a): [0.73127588]\n",
      "Wyraz wolny (b): [0.00144535]\n",
      "Współczynnik determinacji (R^2): 0.1844239019603393\n"
     ]
    },
    {
     "data": {
      "image/png": "[encoded data removed]",
      "text/plain": [
       "<Figure size 960x320 with 1 Axes>"
      ]
     },
     "metadata": {},
     "output_type": "display_data"
    }
   ],
   "source": [
    "# Przekształcenie elementów serii, tak aby uzyskać procentową zmianę między elementami, tj. (bierzący/poprzedni - 1) \n",
    "x = merged_df['Zamkniecie_WIG'].pct_change().dropna()\n",
    "y = merged_df['Zamkniecie_COMARCH'].pct_change().dropna()  \n",
    "\n",
    "# Przekształcenie danych do postaci wymaganej przez scikit-learn\n",
    "X = x.values.reshape(-1, 1)\n",
    "y = y.values.reshape(-1, 1)\n",
    "\n",
    "# Inicjalizacja modelu regresji liniowej\n",
    "model = LinearRegression()\n",
    "\n",
    "# Dopasowanie modelu do danych\n",
    "model.fit(X, y)\n",
    "\n",
    "# Wyświetlenie wyników regresji\n",
    "print(\"Współczynnik nachylenia (a):\", model.coef_[0])\n",
    "print(\"Wyraz wolny (b):\", model.intercept_)\n",
    "print(\"Współczynnik determinacji (R^2):\", model.score(X, y))\n",
    "\n",
    "# Dodanie równania regresji liniowej na wykresie\n",
    "equation = f'$y = {float(model.coef_[0]):.3f}x + {float(model.intercept_):.3f}$'\n",
    "plt.annotate(equation, xy=(0.05, -.1), fontsize=12, color='red')\n",
    "r = f'$R^2 = {model.score(X, y):.5f}$'\n",
    "plt.annotate(r, xy=(0.05, -.15), fontsize=12, color='red')\n",
    "\n",
    "# Wykres danych i regresji\n",
    "plt.scatter(x, y, color='blue', label='Dane', s=1)\n",
    "plt.plot(x.values.reshape(-1, 1), model.predict(X), color='red', label='Regresja liniowa')\n",
    "plt.xlabel('Zmienna niezależna - WIG')\n",
    "plt.ylabel('Zmienna zależna - Comarch')\n",
    "plt.legend(loc='upper left')\n",
    "plt.show()"
   ]
  },
  {
   "cell_type": "markdown",
   "id": "88989e43-4bff-46f8-93f7-8eb3e00b6827",
   "metadata": {},
   "source": [
    "Interpretacja:\n",
    "- Ponieważ współczynnik kierunkowy jest różny od zera (w stopniu 'na oko' wystarczająco istotnym - do sprawdzenia), oraz dodatni, istnieje dodatnia korelacja między cenami spółki Comarch i wartościami indeksu WIG.\n",
    "- Wyraz wolny jest bardzo bliski zeru (do sprawdzenia czy istotnie bliski), zatem zachowanie cen spółki Comarch sugeruje bliskie odwzorowanie zachowania indeksu WIG (ani systematycznie nie bije rynku, ani systematycznie nie przegrywa z rynkiem)."
   ]
  },
  {
   "cell_type": "markdown",
   "id": "8732ae9c-35b6-4ad5-b3c9-5bfb59992008",
   "metadata": {},
   "source": [
    "___\n",
    "### Model wielowymiarowy regresji liniowej  \n",
    "\n",
    "Model wielowymiarowej regresji liniowej uwzględnia więcej niż jedną zmienną niezależną (cechę).  \n",
    "\n",
    "W poniższym modelu wielowymiarowej regresji zastosujemy metodę krokową wsteczną.\n",
    "\n",
    "Zmienną zależną będzie zamknięcia spółki **Comarch**, oraz następujące zmienne niezależne:\n",
    "- zamknięcia spółki KGHM\n",
    "- zamknięcia spółki Echo\n",
    "- zamknięcia spółki Apator\n",
    "- indeks WIG\n",
    "- indeks S&P500\n",
    "- kurs EUR-PLN\n",
    "- kurs złota "
   ]
  },
  {
   "cell_type": "code",
   "execution_count": null,
   "id": "8eb4ba1b-d584-437f-b660-123031a06e15",
   "metadata": {},
   "outputs": [],
   "source": []
  },
  {
   "cell_type": "markdown",
   "id": "a4036af7-c665-4471-89bd-379cbc085c72",
   "metadata": {},
   "source": [
    "___\n",
    "## Dodatkowe źródła\n",
    "- [https://mateuszgrzyb.pl/3-metody-analizy-normalnosci-rozkladu-w-python/](https://mateuszgrzyb.pl/3-metody-analizy-normalnosci-rozkladu-w-python/)\n",
    "- [https://github.com/bilalonur/financial-visualization/blob/main/finance-visualization.ipynb](https://github.com/bilalonur/financial-visualization/blob/main/finance-visualization.ipynb)\n",
    "- [https://python.cogsci.nl/numerical/statistics/](https://python.cogsci.nl/numerical/statistics/)\n",
    "- [https://pingouin-stats.org/](https://pingouin-stats.org/)\n",
    "- [https://www.naukowiec.org/wiedza/statystyka/](https://www.naukowiec.org/wiedza/statystyka/)"
   ]
  },
  {
   "cell_type": "markdown",
   "id": "c6d8e57b-5606-434f-804f-b3c0dd7c5163",
   "metadata": {},
   "source": [
    "___\n",
    "Andrzej Kocielski, 2024"
   ]
  }
 ],
 "metadata": {
  "kernelspec": {
   "display_name": "Python 3 (ipykernel)",
   "language": "python",
   "name": "python3"
  },
  "language_info": {
   "codemirror_mode": {
    "name": "ipython",
    "version": 3
   },
   "file_extension": ".py",
   "mimetype": "text/x-python",
   "name": "python",
   "nbconvert_exporter": "python",
   "pygments_lexer": "ipython3",
   "version": "3.10.12"
  }
 },
 "nbformat": 4,
 "nbformat_minor": 5
}
